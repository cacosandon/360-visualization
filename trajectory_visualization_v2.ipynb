{
 "cells": [
  {
   "cell_type": "markdown",
   "metadata": {},
   "source": [
    "# Constants"
   ]
  },
  {
   "cell_type": "code",
   "execution_count": 1,
   "metadata": {},
   "outputs": [],
   "source": [
    "IALAB_USER = 'mrearle'"
   ]
  },
  {
   "cell_type": "code",
   "execution_count": 2,
   "metadata": {},
   "outputs": [
    {
     "name": "stdout",
     "output_type": "stream",
     "text": [
      "/home/mrearle/repos/360-visualization/r2r/bin/python\n",
      "LICENSE\t\t     logs\n",
      "README.md\t     metadata_parser\n",
      "connectivity\t     objects_visualization.ipynb\n",
      "data\t\t     r2r\n",
      "data_explorer.ipynb  requirements.txt\n",
      "datax\t\t     slurm_scripts\n",
      "img\t\t     trajectory_visualization_v2.ipynb\n",
      "/home/mrearle/repos/360-visualization\n"
     ]
    }
   ],
   "source": [
    "!which python\n",
    "!ls\n",
    "!pwd"
   ]
  },
  {
   "cell_type": "markdown",
   "metadata": {},
   "source": [
    "# Imports"
   ]
  },
  {
   "cell_type": "code",
   "execution_count": 3,
   "metadata": {},
   "outputs": [],
   "source": [
    "import os\n",
    "import sys"
   ]
  },
  {
   "cell_type": "code",
   "execution_count": 4,
   "metadata": {},
   "outputs": [],
   "source": [
    "matterport_build_path = f'/home/{IALAB_USER}/datasets/Matterport3DSimulator/build'\n",
    "metadata_script_path = f'/home/{IALAB_USER}/repos/360-visualization/metadata_parser'"
   ]
  },
  {
   "cell_type": "code",
   "execution_count": 5,
   "metadata": {},
   "outputs": [
    {
     "data": {
      "text/plain": [
       "['/home/mrearle/repos/360-visualization/r2r/lib/python36.zip',\n",
       " '/home/mrearle/repos/360-visualization/r2r/lib/python3.6',\n",
       " '/home/mrearle/repos/360-visualization/r2r/lib/python3.6/lib-dynload',\n",
       " '/usr/lib/python3.6',\n",
       " '',\n",
       " '/home/mrearle/repos/360-visualization/r2r/lib/python3.6/site-packages',\n",
       " '/home/mrearle/repos/360-visualization/r2r/lib/python3.6/site-packages/IPython/extensions',\n",
       " '/mnt-homes/kraken/mrearle/.ipython',\n",
       " '/home/mrearle/datasets/Matterport3DSimulator/build',\n",
       " '/home/mrearle/repos/360-visualization/metadata_parser']"
      ]
     },
     "execution_count": 5,
     "metadata": {},
     "output_type": "execute_result"
    }
   ],
   "source": [
    "if matterport_build_path not in sys.path:\n",
    "    sys.path.append(matterport_build_path)\n",
    "\n",
    "if metadata_script_path not in sys.path:\n",
    "    sys.path.append(metadata_script_path)\n",
    "\n",
    "sys.path"
   ]
  },
  {
   "cell_type": "code",
   "execution_count": 6,
   "metadata": {},
   "outputs": [],
   "source": [
    "import json\n",
    "import sys\n",
    "import MatterSim\n",
    "import time\n",
    "import numpy as np\n",
    "import skimage.transform\n",
    "import networkx as nx\n",
    "\n",
    "import matplotlib.pyplot as plt\n",
    "%matplotlib inline\n",
    "\n",
    "from parse_house_segmentations import HouseSegmentationFile"
   ]
  },
  {
   "cell_type": "markdown",
   "metadata": {},
   "source": [
    "# Setup Simulator"
   ]
  },
  {
   "cell_type": "code",
   "execution_count": 7,
   "metadata": {},
   "outputs": [],
   "source": [
    "# load navigation graph to calculate the relative heading of the next location\n",
    "def load_nav_graph(graph_path):\n",
    "    with open(graph_path) as f:\n",
    "        G = nx.Graph()\n",
    "        positions = {}\n",
    "        data = json.load(f)\n",
    "        for i,item in enumerate(data):\n",
    "            if item['included']:\n",
    "                for j,conn in enumerate(item['unobstructed']):\n",
    "                    if conn and data[j]['included']:\n",
    "                        positions[item['image_id']] = np.array([item['pose'][3], \n",
    "                                item['pose'][7], item['pose'][11]]);\n",
    "                        assert data[j]['unobstructed'][i], 'Graph should be undirected'\n",
    "                        G.add_edge(item['image_id'],data[j]['image_id'])\n",
    "        nx.set_node_attributes(G, values=positions, name='position')\n",
    "    return G\n",
    "\n",
    "def compute_rel_heading(graph, current_viewpoint, current_heading, next_viewpoint):\n",
    "    if current_viewpoint == next_viewpoint:\n",
    "        return 0.\n",
    "    target_rel = graph.nodes[next_viewpoint]['position'] - graph.nodes[current_viewpoint]['position']\n",
    "    target_heading = np.pi/2.0 - np.arctan2(target_rel[1], target_rel[0]) # convert to rel to y axis\n",
    "    \n",
    "    rel_heading = target_heading - current_heading\n",
    "    # normalize angle into turn into [-pi, pi]\n",
    "    rel_heading = rel_heading - (2*np.pi) * np.floor((rel_heading + np.pi) / (2*np.pi))\n",
    "    return rel_heading"
   ]
  },
  {
   "cell_type": "code",
   "execution_count": 28,
   "metadata": {},
   "outputs": [],
   "source": [
    "def visualize_panorama_img(scan, viewpoint, heading, elevation):\n",
    "    WIDTH = 80\n",
    "    HEIGHT = 480\n",
    "    pano_img = np.zeros((HEIGHT, WIDTH*36, 3), np.uint8)\n",
    "    VFOV = np.radians(55)\n",
    "    sim = MatterSim.Simulator()\n",
    "    sim.setCameraResolution(WIDTH, HEIGHT)\n",
    "    sim.setCameraVFOV(VFOV)\n",
    "    sim.initialize()\n",
    "    for n_angle, angle in enumerate(range(-175, 180, 10)):\n",
    "        sim.newEpisode([scan], [viewpoint], [heading + np.radians(angle)], [elevation])\n",
    "        state = sim.getState()\n",
    "        print(state)\n",
    "        print(state[0])\n",
    "        print(state[0].rgb)\n",
    "        print(vars(state[0].rgb))\n",
    "        print(state[0].rgb[0])\n",
    "        im = state[0].rgb\n",
    "        pano_img[:, WIDTH*n_angle:WIDTH*(n_angle+1), :] = im[..., ::-1]\n",
    "    return pano_img\n",
    "\n",
    "def visualize_tunnel_img(scan, viewpoint, heading, elevation):\n",
    "    WIDTH = 640\n",
    "    HEIGHT = 480\n",
    "    VFOV = np.radians(60)\n",
    "    sim = MatterSim.Simulator()\n",
    "    sim.setCameraResolution(WIDTH, HEIGHT)\n",
    "    sim.setCameraVFOV(VFOV)\n",
    "    sim.init()\n",
    "    sim.newEpisode(scan, viewpoint, heading, elevation)\n",
    "    state = sim.getState()\n",
    "    im = state.rgb\n",
    "    return im[..., ::-1].copy()"
   ]
  },
  {
   "cell_type": "markdown",
   "metadata": {},
   "source": [
    "# Setup Metadata Parser"
   ]
  },
  {
   "cell_type": "code",
   "execution_count": 9,
   "metadata": {},
   "outputs": [],
   "source": [
    "viewpoint = '00ebbf3782c64d74aaf7dd39cd561175'\n",
    "scan = '17DRP5sb8fy'"
   ]
  },
  {
   "cell_type": "code",
   "execution_count": 10,
   "metadata": {},
   "outputs": [],
   "source": [
    "base_cache_path = f'/home/{IALAB_USER}/repos/360-visualization/metadata_parser/house_cache'\n",
    "HouseSegmentationFile.base_cache_path = base_cache_path"
   ]
  },
  {
   "cell_type": "code",
   "execution_count": 11,
   "metadata": {},
   "outputs": [
    {
     "name": "stdout",
     "output_type": "stream",
     "text": [
      "Cached file exists, loading.\n"
     ]
    }
   ],
   "source": [
    "metadata = HouseSegmentationFile.load_mapping(scan)"
   ]
  },
  {
   "cell_type": "code",
   "execution_count": 12,
   "metadata": {},
   "outputs": [
    {
     "data": {
      "text/html": [
       "<div>\n",
       "<style scoped>\n",
       "    .dataframe tbody tr th:only-of-type {\n",
       "        vertical-align: middle;\n",
       "    }\n",
       "\n",
       "    .dataframe tbody tr th {\n",
       "        vertical-align: top;\n",
       "    }\n",
       "\n",
       "    .dataframe thead th {\n",
       "        text-align: right;\n",
       "    }\n",
       "</style>\n",
       "<table border=\"1\" class=\"dataframe\">\n",
       "  <thead>\n",
       "    <tr style=\"text-align: right;\">\n",
       "      <th></th>\n",
       "      <th>object_index</th>\n",
       "      <th>region_index</th>\n",
       "      <th>category_index</th>\n",
       "      <th>px</th>\n",
       "      <th>py</th>\n",
       "      <th>pz</th>\n",
       "      <th>a0x</th>\n",
       "      <th>a0y</th>\n",
       "      <th>a0z</th>\n",
       "      <th>a1x</th>\n",
       "      <th>a1y</th>\n",
       "      <th>a1z</th>\n",
       "      <th>r0</th>\n",
       "      <th>r1</th>\n",
       "      <th>r2</th>\n",
       "      <th>category_mapping_name</th>\n",
       "      <th>distance</th>\n",
       "      <th>heading</th>\n",
       "      <th>elevation</th>\n",
       "    </tr>\n",
       "  </thead>\n",
       "  <tbody>\n",
       "    <tr>\n",
       "      <th>0</th>\n",
       "      <td>64</td>\n",
       "      <td>3</td>\n",
       "      <td>0</td>\n",
       "      <td>0.08678</td>\n",
       "      <td>-0.486544</td>\n",
       "      <td>-0.505510</td>\n",
       "      <td>1</td>\n",
       "      <td>0</td>\n",
       "      <td>0</td>\n",
       "      <td>-0</td>\n",
       "      <td>0</td>\n",
       "      <td>1</td>\n",
       "      <td>1.2787</td>\n",
       "      <td>1.07518</td>\n",
       "      <td>1.07237</td>\n",
       "      <td>wall</td>\n",
       "      <td>0.494222</td>\n",
       "      <td>2.965089</td>\n",
       "      <td>-0.796688</td>\n",
       "    </tr>\n",
       "    <tr>\n",
       "      <th>1</th>\n",
       "      <td>65</td>\n",
       "      <td>3</td>\n",
       "      <td>2</td>\n",
       "      <td>0.13652</td>\n",
       "      <td>-0.494245</td>\n",
       "      <td>0.463480</td>\n",
       "      <td>1</td>\n",
       "      <td>0</td>\n",
       "      <td>0</td>\n",
       "      <td>0</td>\n",
       "      <td>1</td>\n",
       "      <td>0</td>\n",
       "      <td>1.22366</td>\n",
       "      <td>1.06192</td>\n",
       "      <td>0.109429</td>\n",
       "      <td>ceiling</td>\n",
       "      <td>0.512753</td>\n",
       "      <td>2.872093</td>\n",
       "      <td>0.734968</td>\n",
       "    </tr>\n",
       "    <tr>\n",
       "      <th>2</th>\n",
       "      <td>66</td>\n",
       "      <td>3</td>\n",
       "      <td>3</td>\n",
       "      <td>-0.03813</td>\n",
       "      <td>-0.466407</td>\n",
       "      <td>-1.430133</td>\n",
       "      <td>1</td>\n",
       "      <td>0</td>\n",
       "      <td>0</td>\n",
       "      <td>0</td>\n",
       "      <td>1</td>\n",
       "      <td>0</td>\n",
       "      <td>1.14534</td>\n",
       "      <td>1.0373</td>\n",
       "      <td>0.15117</td>\n",
       "      <td>floor</td>\n",
       "      <td>0.467963</td>\n",
       "      <td>-3.060021</td>\n",
       "      <td>-1.254561</td>\n",
       "    </tr>\n",
       "    <tr>\n",
       "      <th>3</th>\n",
       "      <td>67</td>\n",
       "      <td>3</td>\n",
       "      <td>19</td>\n",
       "      <td>1.10277</td>\n",
       "      <td>-0.029361</td>\n",
       "      <td>-0.067110</td>\n",
       "      <td>0</td>\n",
       "      <td>0</td>\n",
       "      <td>1</td>\n",
       "      <td>0</td>\n",
       "      <td>1</td>\n",
       "      <td>-0</td>\n",
       "      <td>0.56005</td>\n",
       "      <td>0.477925</td>\n",
       "      <td>0.0737991</td>\n",
       "      <td>mirror</td>\n",
       "      <td>1.103161</td>\n",
       "      <td>1.597415</td>\n",
       "      <td>-0.060759</td>\n",
       "    </tr>\n",
       "    <tr>\n",
       "      <th>4</th>\n",
       "      <td>68</td>\n",
       "      <td>3</td>\n",
       "      <td>1</td>\n",
       "      <td>-0.71965</td>\n",
       "      <td>-0.326582</td>\n",
       "      <td>-0.539370</td>\n",
       "      <td>0</td>\n",
       "      <td>0</td>\n",
       "      <td>1</td>\n",
       "      <td>-0.92388</td>\n",
       "      <td>0.382683</td>\n",
       "      <td>0</td>\n",
       "      <td>1.02612</td>\n",
       "      <td>0.436492</td>\n",
       "      <td>0.113585</td>\n",
       "      <td>door</td>\n",
       "      <td>0.790286</td>\n",
       "      <td>-1.996811</td>\n",
       "      <td>-0.598884</td>\n",
       "    </tr>\n",
       "  </tbody>\n",
       "</table>\n",
       "</div>"
      ],
      "text/plain": [
       "  object_index region_index category_index       px        py        pz a0x  \\\n",
       "0           64            3              0  0.08678 -0.486544 -0.505510   1   \n",
       "1           65            3              2  0.13652 -0.494245  0.463480   1   \n",
       "2           66            3              3 -0.03813 -0.466407 -1.430133   1   \n",
       "3           67            3             19  1.10277 -0.029361 -0.067110   0   \n",
       "4           68            3              1 -0.71965 -0.326582 -0.539370   0   \n",
       "\n",
       "  a0y a0z       a1x       a1y a1z       r0        r1         r2  \\\n",
       "0   0   0        -0         0   1   1.2787   1.07518    1.07237   \n",
       "1   0   0         0         1   0  1.22366   1.06192   0.109429   \n",
       "2   0   0         0         1   0  1.14534    1.0373    0.15117   \n",
       "3   0   1         0         1  -0  0.56005  0.477925  0.0737991   \n",
       "4   0   1  -0.92388  0.382683   0  1.02612  0.436492   0.113585   \n",
       "\n",
       "  category_mapping_name  distance   heading  elevation  \n",
       "0                  wall  0.494222  2.965089  -0.796688  \n",
       "1               ceiling  0.512753  2.872093   0.734968  \n",
       "2                 floor  0.467963 -3.060021  -1.254561  \n",
       "3                mirror  1.103161  1.597415  -0.060759  \n",
       "4                  door  0.790286 -1.996811  -0.598884  "
      ]
     },
     "execution_count": 12,
     "metadata": {},
     "output_type": "execute_result"
    }
   ],
   "source": [
    "objects = metadata.angle_relative_viewpoint_objects(viewpoint)\n",
    "objects.head()"
   ]
  },
  {
   "cell_type": "markdown",
   "metadata": {},
   "source": [
    "# Visualization"
   ]
  },
  {
   "cell_type": "code",
   "execution_count": 29,
   "metadata": {},
   "outputs": [
    {
     "name": "stdout",
     "output_type": "stream",
     "text": [
      "[<MatterSim.SimState object at 0x7f7c902a7c00>]\n",
      "<MatterSim.SimState object at 0x7f7c902a7c00>\n",
      "<MatterSim.Mat object at 0x7f7c8b116998>\n"
     ]
    },
    {
     "ename": "TypeError",
     "evalue": "vars() argument must have __dict__ attribute",
     "output_type": "error",
     "traceback": [
      "\u001b[0;31m---------------------------------------------------------------------------\u001b[0m",
      "\u001b[0;31mTypeError\u001b[0m                                 Traceback (most recent call last)",
      "\u001b[0;32m<ipython-input-29-45bfbe7e3819>\u001b[0m in \u001b[0;36m<module>\u001b[0;34m\u001b[0m\n\u001b[1;32m      3\u001b[0m \u001b[0;31m# for n, (viewpoint, heading, elevation) in enumerate(trajectory['trajectory']):\u001b[0m\u001b[0;34m\u001b[0m\u001b[0;34m\u001b[0m\u001b[0;34m\u001b[0m\u001b[0m\n\u001b[1;32m      4\u001b[0m \u001b[0mplt\u001b[0m\u001b[0;34m.\u001b[0m\u001b[0mfigure\u001b[0m\u001b[0;34m(\u001b[0m\u001b[0mfigsize\u001b[0m\u001b[0;34m=\u001b[0m\u001b[0;34m(\u001b[0m\u001b[0;36m18\u001b[0m\u001b[0;34m,\u001b[0m \u001b[0;36m3\u001b[0m\u001b[0;34m)\u001b[0m\u001b[0;34m)\u001b[0m\u001b[0;34m\u001b[0m\u001b[0;34m\u001b[0m\u001b[0m\n\u001b[0;32m----> 5\u001b[0;31m \u001b[0mim\u001b[0m \u001b[0;34m=\u001b[0m \u001b[0mvisualize_panorama_img\u001b[0m\u001b[0;34m(\u001b[0m\u001b[0mscan\u001b[0m\u001b[0;34m,\u001b[0m \u001b[0mviewpoint\u001b[0m\u001b[0;34m,\u001b[0m \u001b[0mheading\u001b[0m\u001b[0;34m,\u001b[0m \u001b[0;36m0\u001b[0m\u001b[0;34m)\u001b[0m\u001b[0;34m\u001b[0m\u001b[0;34m\u001b[0m\u001b[0m\n\u001b[0m\u001b[1;32m      6\u001b[0m \u001b[0mplt\u001b[0m\u001b[0;34m.\u001b[0m\u001b[0mimshow\u001b[0m\u001b[0;34m(\u001b[0m\u001b[0mim\u001b[0m\u001b[0;34m)\u001b[0m\u001b[0;34m\u001b[0m\u001b[0;34m\u001b[0m\u001b[0m\n\u001b[1;32m      7\u001b[0m \u001b[0mplt\u001b[0m\u001b[0;34m.\u001b[0m\u001b[0mxticks\u001b[0m\u001b[0;34m(\u001b[0m\u001b[0mnp\u001b[0m\u001b[0;34m.\u001b[0m\u001b[0mlinspace\u001b[0m\u001b[0;34m(\u001b[0m\u001b[0;36m0\u001b[0m\u001b[0;34m,\u001b[0m \u001b[0mim\u001b[0m\u001b[0;34m.\u001b[0m\u001b[0mshape\u001b[0m\u001b[0;34m[\u001b[0m\u001b[0;36m1\u001b[0m\u001b[0;34m]\u001b[0m \u001b[0;34m-\u001b[0m \u001b[0;36m1\u001b[0m\u001b[0;34m,\u001b[0m \u001b[0;36m5\u001b[0m\u001b[0;34m)\u001b[0m\u001b[0;34m,\u001b[0m \u001b[0;34m[\u001b[0m\u001b[0;34m-\u001b[0m\u001b[0;36m180\u001b[0m\u001b[0;34m,\u001b[0m \u001b[0;34m-\u001b[0m\u001b[0;36m90\u001b[0m\u001b[0;34m,\u001b[0m \u001b[0;36m0\u001b[0m\u001b[0;34m,\u001b[0m \u001b[0;36m90\u001b[0m\u001b[0;34m,\u001b[0m \u001b[0;36m180\u001b[0m\u001b[0;34m]\u001b[0m\u001b[0;34m)\u001b[0m\u001b[0;34m\u001b[0m\u001b[0;34m\u001b[0m\u001b[0m\n",
      "\u001b[0;32m<ipython-input-28-adfd08ede484>\u001b[0m in \u001b[0;36mvisualize_panorama_img\u001b[0;34m(scan, viewpoint, heading, elevation)\u001b[0m\n\u001b[1;32m     14\u001b[0m         \u001b[0mprint\u001b[0m\u001b[0;34m(\u001b[0m\u001b[0mstate\u001b[0m\u001b[0;34m[\u001b[0m\u001b[0;36m0\u001b[0m\u001b[0;34m]\u001b[0m\u001b[0;34m)\u001b[0m\u001b[0;34m\u001b[0m\u001b[0;34m\u001b[0m\u001b[0m\n\u001b[1;32m     15\u001b[0m         \u001b[0mprint\u001b[0m\u001b[0;34m(\u001b[0m\u001b[0mstate\u001b[0m\u001b[0;34m[\u001b[0m\u001b[0;36m0\u001b[0m\u001b[0;34m]\u001b[0m\u001b[0;34m.\u001b[0m\u001b[0mrgb\u001b[0m\u001b[0;34m)\u001b[0m\u001b[0;34m\u001b[0m\u001b[0;34m\u001b[0m\u001b[0m\n\u001b[0;32m---> 16\u001b[0;31m         \u001b[0mprint\u001b[0m\u001b[0;34m(\u001b[0m\u001b[0mvars\u001b[0m\u001b[0;34m(\u001b[0m\u001b[0mstate\u001b[0m\u001b[0;34m[\u001b[0m\u001b[0;36m0\u001b[0m\u001b[0;34m]\u001b[0m\u001b[0;34m.\u001b[0m\u001b[0mrgb\u001b[0m\u001b[0;34m)\u001b[0m\u001b[0;34m)\u001b[0m\u001b[0;34m\u001b[0m\u001b[0;34m\u001b[0m\u001b[0m\n\u001b[0m\u001b[1;32m     17\u001b[0m         \u001b[0mprint\u001b[0m\u001b[0;34m(\u001b[0m\u001b[0mstate\u001b[0m\u001b[0;34m[\u001b[0m\u001b[0;36m0\u001b[0m\u001b[0;34m]\u001b[0m\u001b[0;34m.\u001b[0m\u001b[0mrgb\u001b[0m\u001b[0;34m[\u001b[0m\u001b[0;36m0\u001b[0m\u001b[0;34m]\u001b[0m\u001b[0;34m)\u001b[0m\u001b[0;34m\u001b[0m\u001b[0;34m\u001b[0m\u001b[0m\n\u001b[1;32m     18\u001b[0m         \u001b[0mim\u001b[0m \u001b[0;34m=\u001b[0m \u001b[0mstate\u001b[0m\u001b[0;34m[\u001b[0m\u001b[0;36m0\u001b[0m\u001b[0;34m]\u001b[0m\u001b[0;34m.\u001b[0m\u001b[0mrgb\u001b[0m\u001b[0;34m\u001b[0m\u001b[0;34m\u001b[0m\u001b[0m\n",
      "\u001b[0;31mTypeError\u001b[0m: vars() argument must have __dict__ attribute"
     ]
    },
    {
     "data": {
      "text/plain": [
       "<Figure size 1296x216 with 0 Axes>"
      ]
     },
     "metadata": {},
     "output_type": "display_data"
    }
   ],
   "source": [
    "plt.close('all')\n",
    "heading = np.pi/2\n",
    "# for n, (viewpoint, heading, elevation) in enumerate(trajectory['trajectory']):\n",
    "plt.figure(figsize=(18, 3))\n",
    "im = visualize_panorama_img(scan, viewpoint, heading, 0)    \n",
    "plt.imshow(im)\n",
    "plt.xticks(np.linspace(0, im.shape[1] - 1, 5), [-180, -90, 0, 90, 180])\n",
    "plt.xlabel('relative heading from the agent')\n",
    "plt.yticks([], [])\n",
    "\n",
    "x0, y0 = heading, 0\n",
    "for obj in objects.itertuples():\n",
    "    heading, elevation = float(obj.heading), float(obj.elevation)\n",
    "    category = obj.category_mapping_name\n",
    "\n",
    "    heading -= x0\n",
    "    while heading > np.pi:\n",
    "        heading -= 2 * np.pi\n",
    "\n",
    "    first_coord = (heading / (2 * np.pi) + 0.5) * im.shape[1]\n",
    "\n",
    "    print(heading / (2 * np.pi), first_coord, im.shape)\n",
    "\n",
    "    # second_coord = im.shape[1] * (1 + elevation / (np.pi / 4)) - y0\n",
    "    second_coord = (1 - elevation / (np.pi) - 0.5) * im.shape[0]\n",
    "\n",
    "    plt.plot(first_coord, second_coord, color='red', marker='v', linewidth=3)\n",
    "    plt.annotate(category, (first_coord, second_coord))\n",
    "\n",
    "plt.plot(x0, y0, color='red', marker='v', linewidth=3)\n",
    "plt.annotate(category, (x0, y0))\n",
    "        \n",
    "\n",
    "        "
   ]
  },
  {
   "cell_type": "code",
   "execution_count": null,
   "metadata": {},
   "outputs": [],
   "source": []
  }
 ],
 "metadata": {
  "interpreter": {
   "hash": "33e93a17650f8bec3f99e1b37c2df4010fe4fa4350d151ab1eaee8985f1d326f"
  },
  "kernelspec": {
   "display_name": "Python 3",
   "language": "python",
   "name": "python3"
  },
  "language_info": {
   "codemirror_mode": {
    "name": "ipython",
    "version": 3
   },
   "file_extension": ".py",
   "mimetype": "text/x-python",
   "name": "python",
   "nbconvert_exporter": "python",
   "pygments_lexer": "ipython3",
   "version": "3.6.8"
  }
 },
 "nbformat": 4,
 "nbformat_minor": 2
}
