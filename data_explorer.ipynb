{
 "cells": [
  {
   "cell_type": "code",
   "execution_count": 7,
   "metadata": {},
   "outputs": [],
   "source": [
    "IALAB_MEMBER = True\n",
    "IALAB_USER = \"mrearle\""
   ]
  },
  {
   "cell_type": "code",
   "execution_count": 8,
   "metadata": {},
   "outputs": [],
   "source": [
    "import sys\n",
    "\n",
    "if IALAB_MEMBER:\n",
    "    metadata_parser_path = f'/home/{IALAB_USER}/repos/360-visualization/metadata_parser'\n",
    "else:\n",
    "    metadata_parser_path = '/360-visualization/metadata_parser''\n",
    "\n",
    "if metadata_parser_path not in sys.path:\n",
    "    sys.path.append(metadata_parser_path)"
   ]
  },
  {
   "cell_type": "code",
   "execution_count": 9,
   "metadata": {},
   "outputs": [],
   "source": [
    "from parse_house_segmentations import HouseSegmentationFile\n"
   ]
  },
  {
   "cell_type": "code",
   "execution_count": 10,
   "metadata": {},
   "outputs": [],
   "source": [
    "scanId = '17DRP5sb8fy'\n",
    "viewpointId = '00ebbf3782c64d74aaf7dd39cd561175'\n"
   ]
  },
  {
   "cell_type": "code",
   "execution_count": 11,
   "metadata": {},
   "outputs": [],
   "source": [
    "if IALAB_MEMBER:\n",
    "  base_path = '/home/{IALAB_USER}/datasets/Matterport3DSimulator/houses/v1/scans'\n",
    "else:\n",
    "  base_path = '/Matterport3DSimulator/houses/v1/scans' # Location of Matterport3D Simulator\n",
    "HouseSegmentationFile.base_path = base_path"
   ]
  },
  {
   "cell_type": "code",
   "execution_count": 12,
   "metadata": {},
   "outputs": [],
   "source": [
    "metadata = HouseSegmentationFile.load_mapping(scanId)\n"
   ]
  },
  {
   "cell_type": "code",
   "execution_count": 13,
   "metadata": {},
   "outputs": [],
   "source": [
    "objects = metadata.viewpoint_objects(viewpointId)\n",
    "region = metadata.get_region(viewpointId)"
   ]
  },
  {
   "cell_type": "code",
   "execution_count": 14,
   "metadata": {},
   "outputs": [
    {
     "data": {
      "text/plain": [
       "{'name': '-',\n",
       " 'label': '-',\n",
       " 'num_images': 864.0,\n",
       " 'num_panoramas': 48.0,\n",
       " 'num_vertices': 57.0,\n",
       " 'num_surfaces': 10.0,\n",
       " 'num_segments': 27703.0,\n",
       " 'num_objects': 187.0,\n",
       " 'num_regions': 1659.0,\n",
       " 'num_portals': 10.0,\n",
       " 'num_levels': 0.0,\n",
       " 'xlo': 0.0,\n",
       " 'ylo': -11.5795,\n",
       " 'zlo': -2.92465,\n",
       " 'xhi': -0.113902,\n",
       " 'yhi': 5.99388,\n",
       " 'zhi': 5.9349}"
      ]
     },
     "execution_count": 14,
     "metadata": {},
     "output_type": "execute_result"
    }
   ],
   "source": [
    "metadata.header"
   ]
  },
  {
   "cell_type": "code",
   "execution_count": 16,
   "metadata": {},
   "outputs": [
    {
     "data": {
      "text/html": "<div>\n<style scoped>\n    .dataframe tbody tr th:only-of-type {\n        vertical-align: middle;\n    }\n\n    .dataframe tbody tr th {\n        vertical-align: top;\n    }\n\n    .dataframe thead th {\n        text-align: right;\n    }\n</style>\n<table border=\"1\" class=\"dataframe\">\n  <thead>\n    <tr style=\"text-align: right;\">\n      <th></th>\n      <th>name</th>\n      <th>panorama_index</th>\n      <th>region_index</th>\n      <th>px</th>\n      <th>py</th>\n      <th>pz</th>\n    </tr>\n  </thead>\n  <tbody>\n    <tr>\n      <th>0</th>\n      <td>00ebbf3782c64d74aaf7dd39cd561175</td>\n      <td>0</td>\n      <td>3</td>\n      <td>3.520640</td>\n      <td>-0.501891</td>\n      <td>1.542820</td>\n    </tr>\n    <tr>\n      <th>1</th>\n      <td>08115b08da534f1aafff2fa81fc73512</td>\n      <td>1</td>\n      <td>5</td>\n      <td>0.482987</td>\n      <td>3.052250</td>\n      <td>0.650183</td>\n    </tr>\n    <tr>\n      <th>2</th>\n      <td>08c774f20c984008882da2b8547850eb</td>\n      <td>2</td>\n      <td>5</td>\n      <td>-1.665710</td>\n      <td>1.400770</td>\n      <td>1.497670</td>\n    </tr>\n    <tr>\n      <th>3</th>\n      <td>0e92a69a50414253a23043758f111cec</td>\n      <td>3</td>\n      <td>9</td>\n      <td>-2.220220</td>\n      <td>-0.480640</td>\n      <td>1.551390</td>\n    </tr>\n    <tr>\n      <th>4</th>\n      <td>0f37bd0737e349de9d536263a4bdd60d</td>\n      <td>4</td>\n      <td>7</td>\n      <td>-6.405350</td>\n      <td>1.378800</td>\n      <td>1.494280</td>\n    </tr>\n  </tbody>\n</table>\n</div>",
      "text/plain": [
       "                               name panorama_index region_index        px  \\\n",
       "0  00ebbf3782c64d74aaf7dd39cd561175              0            3  3.520640   \n",
       "1  08115b08da534f1aafff2fa81fc73512              1            5  0.482987   \n",
       "2  08c774f20c984008882da2b8547850eb              2            5 -1.665710   \n",
       "3  0e92a69a50414253a23043758f111cec              3            9 -2.220220   \n",
       "4  0f37bd0737e349de9d536263a4bdd60d              4            7 -6.405350   \n",
       "\n",
       "         py        pz  \n",
       "0 -0.501891  1.542820  \n",
       "1  3.052250  0.650183  \n",
       "2  1.400770  1.497670  \n",
       "3 -0.480640  1.551390  \n",
       "4  1.378800  1.494280  "
      ]
     },
     "execution_count": 16,
     "metadata": {},
     "output_type": "execute_result"
    }
   ],
   "source": [
    "metadata.panoramas.head()"
   ]
  },
  {
   "cell_type": "code",
   "execution_count": 18,
   "metadata": {},
   "outputs": [
    {
     "data": {
      "text/html": "<div>\n<style scoped>\n    .dataframe tbody tr th:only-of-type {\n        vertical-align: middle;\n    }\n\n    .dataframe tbody tr th {\n        vertical-align: top;\n    }\n\n    .dataframe thead th {\n        text-align: right;\n    }\n</style>\n<table border=\"1\" class=\"dataframe\">\n  <thead>\n    <tr style=\"text-align: right;\">\n      <th></th>\n      <th>surface_index</th>\n      <th>region_index</th>\n      <th>label</th>\n      <th>px</th>\n      <th>py</th>\n      <th>pz</th>\n      <th>nx</th>\n      <th>ny</th>\n      <th>nz</th>\n      <th>xlo</th>\n      <th>ylo</th>\n      <th>zlo</th>\n      <th>xhi</th>\n      <th>yhi</th>\n      <th>zhi</th>\n    </tr>\n  </thead>\n  <tbody>\n    <tr>\n      <th>0</th>\n      <td>0.0</td>\n      <td>0.0</td>\n      <td>F</td>\n      <td>-9.26133</td>\n      <td>2.135810</td>\n      <td>-0.008422</td>\n      <td>0.0</td>\n      <td>0.0</td>\n      <td>1.0</td>\n      <td>-10.90350</td>\n      <td>0.587867</td>\n      <td>-0.008422</td>\n      <td>-6.74019</td>\n      <td>4.795210</td>\n      <td>-0.008422</td>\n    </tr>\n    <tr>\n      <th>1</th>\n      <td>1.0</td>\n      <td>1.0</td>\n      <td>F</td>\n      <td>-6.47846</td>\n      <td>-1.062270</td>\n      <td>0.008621</td>\n      <td>0.0</td>\n      <td>0.0</td>\n      <td>1.0</td>\n      <td>-8.13822</td>\n      <td>-2.747810</td>\n      <td>0.008621</td>\n      <td>-4.37099</td>\n      <td>0.522308</td>\n      <td>0.008621</td>\n    </tr>\n    <tr>\n      <th>2</th>\n      <td>2.0</td>\n      <td>2.0</td>\n      <td>F</td>\n      <td>-3.85113</td>\n      <td>-0.524921</td>\n      <td>0.011746</td>\n      <td>0.0</td>\n      <td>0.0</td>\n      <td>1.0</td>\n      <td>-4.34634</td>\n      <td>-1.557540</td>\n      <td>0.011746</td>\n      <td>-3.35606</td>\n      <td>0.507769</td>\n      <td>0.011746</td>\n    </tr>\n    <tr>\n      <th>3</th>\n      <td>3.0</td>\n      <td>3.0</td>\n      <td>F</td>\n      <td>3.55226</td>\n      <td>-0.967983</td>\n      <td>-0.006380</td>\n      <td>0.0</td>\n      <td>0.0</td>\n      <td>1.0</td>\n      <td>2.46613</td>\n      <td>-1.993660</td>\n      <td>-0.006380</td>\n      <td>4.63827</td>\n      <td>0.057805</td>\n      <td>-0.006380</td>\n    </tr>\n    <tr>\n      <th>4</th>\n      <td>4.0</td>\n      <td>4.0</td>\n      <td>F</td>\n      <td>2.53459</td>\n      <td>3.580320</td>\n      <td>-0.000640</td>\n      <td>0.0</td>\n      <td>0.0</td>\n      <td>1.0</td>\n      <td>1.02212</td>\n      <td>0.445752</td>\n      <td>-0.000640</td>\n      <td>4.63471</td>\n      <td>5.295840</td>\n      <td>-0.000640</td>\n    </tr>\n  </tbody>\n</table>\n</div>",
      "text/plain": [
       "   surface_index  region_index label       px        py        pz   nx   ny  \\\n",
       "0            0.0           0.0     F -9.26133  2.135810 -0.008422  0.0  0.0   \n",
       "1            1.0           1.0     F -6.47846 -1.062270  0.008621  0.0  0.0   \n",
       "2            2.0           2.0     F -3.85113 -0.524921  0.011746  0.0  0.0   \n",
       "3            3.0           3.0     F  3.55226 -0.967983 -0.006380  0.0  0.0   \n",
       "4            4.0           4.0     F  2.53459  3.580320 -0.000640  0.0  0.0   \n",
       "\n",
       "    nz       xlo       ylo       zlo      xhi       yhi       zhi  \n",
       "0  1.0 -10.90350  0.587867 -0.008422 -6.74019  4.795210 -0.008422  \n",
       "1  1.0  -8.13822 -2.747810  0.008621 -4.37099  0.522308  0.008621  \n",
       "2  1.0  -4.34634 -1.557540  0.011746 -3.35606  0.507769  0.011746  \n",
       "3  1.0   2.46613 -1.993660 -0.006380  4.63827  0.057805 -0.006380  \n",
       "4  1.0   1.02212  0.445752 -0.000640  4.63471  5.295840 -0.000640  "
      ]
     },
     "execution_count": 18,
     "metadata": {},
     "output_type": "execute_result"
    }
   ],
   "source": [
    "metadata.surfaces.head()"
   ]
  },
  {
   "cell_type": "code",
   "execution_count": 21,
   "metadata": {},
   "outputs": [
    {
     "data": {
      "text/html": "<div>\n<style scoped>\n    .dataframe tbody tr th:only-of-type {\n        vertical-align: middle;\n    }\n\n    .dataframe tbody tr th {\n        vertical-align: top;\n    }\n\n    .dataframe thead th {\n        text-align: right;\n    }\n</style>\n<table border=\"1\" class=\"dataframe\">\n  <thead>\n    <tr style=\"text-align: right;\">\n      <th></th>\n      <th>image_index</th>\n      <th>panorama_index</th>\n      <th>name</th>\n      <th>camera_index</th>\n      <th>yaw_index</th>\n      <th>e00</th>\n      <th>e01</th>\n      <th>e02</th>\n      <th>e03</th>\n      <th>e10</th>\n      <th>...</th>\n      <th>i11</th>\n      <th>i12</th>\n      <th>i20</th>\n      <th>i21</th>\n      <th>i22</th>\n      <th>width</th>\n      <th>height</th>\n      <th>px</th>\n      <th>py</th>\n      <th>pz</th>\n    </tr>\n  </thead>\n  <tbody>\n    <tr>\n      <th>0</th>\n      <td>0</td>\n      <td>0</td>\n      <td>00ebbf3782c64d74aaf7dd39cd561175</td>\n      <td>0</td>\n      <td>0</td>\n      <td>-0.73677</td>\n      <td>-0.67594</td>\n      <td>0.0165613</td>\n      <td>2.2291</td>\n      <td>-0.438446</td>\n      <td>...</td>\n      <td>1075.66</td>\n      <td>515.013</td>\n      <td>0</td>\n      <td>0</td>\n      <td>1</td>\n      <td>1280</td>\n      <td>1024</td>\n      <td>3.52064</td>\n      <td>-0.501891</td>\n      <td>1.54282</td>\n    </tr>\n    <tr>\n      <th>1</th>\n      <td>1</td>\n      <td>0</td>\n      <td>00ebbf3782c64d74aaf7dd39cd561175</td>\n      <td>0</td>\n      <td>1</td>\n      <td>-0.953748</td>\n      <td>0.300171</td>\n      <td>0.0161444</td>\n      <td>3.47103</td>\n      <td>0.211332</td>\n      <td>...</td>\n      <td>1075.66</td>\n      <td>515.013</td>\n      <td>0</td>\n      <td>0</td>\n      <td>1</td>\n      <td>1280</td>\n      <td>1024</td>\n      <td>3.50647</td>\n      <td>-0.505191</td>\n      <td>1.54289</td>\n    </tr>\n    <tr>\n      <th>2</th>\n      <td>2</td>\n      <td>0</td>\n      <td>00ebbf3782c64d74aaf7dd39cd561175</td>\n      <td>0</td>\n      <td>2</td>\n      <td>-0.216901</td>\n      <td>0.976123</td>\n      <td>0.0117905</td>\n      <td>1.22297</td>\n      <td>0.653201</td>\n      <td>...</td>\n      <td>1075.66</td>\n      <td>515.013</td>\n      <td>0</td>\n      <td>0</td>\n      <td>1</td>\n      <td>1280</td>\n      <td>1024</td>\n      <td>3.49653</td>\n      <td>-0.494569</td>\n      <td>1.54292</td>\n    </tr>\n    <tr>\n      <th>3</th>\n      <td>3</td>\n      <td>0</td>\n      <td>00ebbf3782c64d74aaf7dd39cd561175</td>\n      <td>0</td>\n      <td>3</td>\n      <td>0.736908</td>\n      <td>0.675948</td>\n      <td>0.00785278</td>\n      <td>-2.26696</td>\n      <td>0.445283</td>\n      <td>...</td>\n      <td>1075.66</td>\n      <td>515.013</td>\n      <td>0</td>\n      <td>0</td>\n      <td>1</td>\n      <td>1280</td>\n      <td>1024</td>\n      <td>3.50076</td>\n      <td>-0.480646</td>\n      <td>1.54288</td>\n    </tr>\n    <tr>\n      <th>4</th>\n      <td>4</td>\n      <td>0</td>\n      <td>00ebbf3782c64d74aaf7dd39cd561175</td>\n      <td>0</td>\n      <td>4</td>\n      <td>0.953849</td>\n      <td>-0.300173</td>\n      <td>0.00826966</td>\n      <td>-3.50876</td>\n      <td>-0.2045</td>\n      <td>...</td>\n      <td>1075.66</td>\n      <td>515.013</td>\n      <td>0</td>\n      <td>0</td>\n      <td>1</td>\n      <td>1280</td>\n      <td>1024</td>\n      <td>3.51493</td>\n      <td>-0.477347</td>\n      <td>1.54281</td>\n    </tr>\n  </tbody>\n</table>\n<p>5 rows × 35 columns</p>\n</div>",
      "text/plain": [
       "  image_index panorama_index                              name camera_index  \\\n",
       "0           0              0  00ebbf3782c64d74aaf7dd39cd561175            0   \n",
       "1           1              0  00ebbf3782c64d74aaf7dd39cd561175            0   \n",
       "2           2              0  00ebbf3782c64d74aaf7dd39cd561175            0   \n",
       "3           3              0  00ebbf3782c64d74aaf7dd39cd561175            0   \n",
       "4           4              0  00ebbf3782c64d74aaf7dd39cd561175            0   \n",
       "\n",
       "  yaw_index        e00        e01         e02       e03        e10  ...  \\\n",
       "0         0   -0.73677   -0.67594   0.0165613    2.2291  -0.438446  ...   \n",
       "1         1  -0.953748   0.300171   0.0161444   3.47103   0.211332  ...   \n",
       "2         2  -0.216901   0.976123   0.0117905   1.22297   0.653201  ...   \n",
       "3         3   0.736908   0.675948  0.00785278  -2.26696   0.445283  ...   \n",
       "4         4   0.953849  -0.300173  0.00826966  -3.50876    -0.2045  ...   \n",
       "\n",
       "       i11      i12 i20 i21 i22 width height       px         py       pz  \n",
       "0  1075.66  515.013   0   0   1  1280   1024  3.52064  -0.501891  1.54282  \n",
       "1  1075.66  515.013   0   0   1  1280   1024  3.50647  -0.505191  1.54289  \n",
       "2  1075.66  515.013   0   0   1  1280   1024  3.49653  -0.494569  1.54292  \n",
       "3  1075.66  515.013   0   0   1  1280   1024  3.50076  -0.480646  1.54288  \n",
       "4  1075.66  515.013   0   0   1  1280   1024  3.51493  -0.477347  1.54281  \n",
       "\n",
       "[5 rows x 35 columns]"
      ]
     },
     "execution_count": 21,
     "metadata": {},
     "output_type": "execute_result"
    }
   ],
   "source": [
    "metadata.images.query('panorama_index == \"0\"').head()"
   ]
  },
  {
   "cell_type": "code",
   "execution_count": null,
   "metadata": {},
   "outputs": [],
   "source": []
  },
  {
   "cell_type": "code",
   "execution_count": null,
   "metadata": {},
   "outputs": [],
   "source": []
  }
 ],
 "metadata": {
  "interpreter": {
   "hash": "33e93a17650f8bec3f99e1b37c2df4010fe4fa4350d151ab1eaee8985f1d326f"
  },
  "kernelspec": {
   "display_name": "Python 3.6.8 64-bit ('r2r': virtualenv)",
   "name": "python3"
  },
  "language_info": {
   "codemirror_mode": {
    "name": "ipython",
    "version": 3
   },
   "file_extension": ".py",
   "mimetype": "text/x-python",
   "name": "python",
   "nbconvert_exporter": "python",
   "pygments_lexer": "ipython3",
   "version": "3.6.8"
  },
  "orig_nbformat": 4
 },
 "nbformat": 4,
 "nbformat_minor": 2
}