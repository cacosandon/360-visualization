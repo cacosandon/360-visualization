{
 "metadata": {
  "language_info": {
   "codemirror_mode": {
    "name": "ipython",
    "version": 3
   },
   "file_extension": ".py",
   "mimetype": "text/x-python",
   "name": "python",
   "nbconvert_exporter": "python",
   "pygments_lexer": "ipython3",
   "version": 3
  },
  "orig_nbformat": 2
 },
 "nbformat": 4,
 "nbformat_minor": 2,
 "cells": [
  {
   "cell_type": "code",
   "execution_count": null,
   "metadata": {},
   "outputs": [],
   "source": [
    "import json\n",
    "import sys\n",
    "import os\n",
    "import time\n",
    "import numpy as np\n",
    "import skimage.transform\n",
    "import networkx as nx\n",
    "import cv2\n",
    "\n",
    "import matplotlib.pyplot as plt"
   ]
  },
  {
   "cell_type": "code",
   "execution_count": null,
   "metadata": {},
   "outputs": [],
   "source": [
    "def visualize_panorama_img(scan, viewpoint, heading, elevation):\n",
    "    WIDTH = 80\n",
    "    HEIGHT = 480\n",
    "    pano_img = np.zeros((HEIGHT, WIDTH*36, 3), np.uint8)\n",
    "    VFOV = np.radians(55)\n",
    "    sim = MatterSim.Simulator()\n",
    "    sim.setCameraResolution(WIDTH, HEIGHT)\n",
    "    sim.setCameraVFOV(VFOV)\n",
    "    sim.init()\n",
    "    for n_angle, angle in enumerate(range(-175, 180, 10)):\n",
    "        sim.newEpisode(scan, viewpoint, heading + np.radians(angle), elevation)\n",
    "        state = sim.getState()\n",
    "        im = state.rgb\n",
    "        pano_img[:, WIDTH*n_angle:WIDTH*(n_angle+1), :] = im[..., ::-1]\n",
    "    return pano_img"
   ]
  },
  {
   "cell_type": "code",
   "execution_count": null,
   "metadata": {},
   "outputs": [],
   "source": [
    "\n",
    "def visualize_tunnel_img(scan, viewpoint, heading, elevation):\n",
    "    \n",
    "    WIDTH = 640\n",
    "    HEIGHT = 480\n",
    "    VFOV = np.radians(60)\n",
    "    sim = MatterSim.Simulator()\n",
    "    sim.setCameraResolution(WIDTH, HEIGHT)\n",
    "    sim.setCameraVFOV(VFOV)\n",
    "    sim.init()\n",
    "    sim.newEpisode(scan, viewpoint, heading, elevation)\n",
    "    state = sim.getState()\n",
    "    im = state.rgb\n",
    "    return im[..., ::-1].copy()"
   ]
  }
 ]
}